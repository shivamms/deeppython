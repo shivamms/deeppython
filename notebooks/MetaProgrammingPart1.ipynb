{
 "cells": [
  {
   "cell_type": "markdown",
   "metadata": {},
   "source": [
    "### Meta Programming Part 1 - Decorators\n",
    "#### A decorator creates \"wrapper\" function around a function that we provide.\n",
    "##### Below, \"meta\" is the decorator which can be used with any function."
   ]
  },
  {
   "cell_type": "code",
   "execution_count": 106,
   "metadata": {},
   "outputs": [
    {
     "name": "stdout",
     "output_type": "stream",
     "text": [
      "somefunc\n",
      "Parameters: 1,2\n"
     ]
    }
   ],
   "source": [
    "def meta(func):\n",
    "    def wrapper(*args, **kwiargs):\n",
    "        print(func.__name__)\n",
    "        return func(*args, **kwiargs)\n",
    "    return wrapper"
   ]
  },
  {
   "cell_type": "markdown",
   "metadata": {},
   "source": [
    "##### Usage:"
   ]
  },
  {
   "cell_type": "code",
   "execution_count": 107,
   "metadata": {},
   "outputs": [
    {
     "name": "stdout",
     "output_type": "stream",
     "text": [
      "somefunc\n",
      "Parameters: 1,2\n"
     ]
    }
   ],
   "source": [
    "@meta\n",
    "def somefunc(x ,y):\n",
    "    print(\"Parameters: \" + str(x) + ',' + str(y))\n",
    "    \n",
    "somefunc(1,2)"
   ]
  },
  {
   "cell_type": "markdown",
   "metadata": {},
   "source": [
    "##### When using decorators, we loose meta information about the function. The Python returns information about the wrapper function and not about the original function. It is the same with help(). To avoid this, we use wraps. @wraps copies the metadata to the decorator."
   ]
  },
  {
   "cell_type": "code",
   "execution_count": 108,
   "metadata": {},
   "outputs": [
    {
     "data": {
      "text/plain": [
       "<function __main__.meta.<locals>.wrapper(*args, **kwiargs)>"
      ]
     },
     "execution_count": 108,
     "metadata": {},
     "output_type": "execute_result"
    }
   ],
   "source": [
    "somefunc"
   ]
  },
  {
   "cell_type": "code",
   "execution_count": 109,
   "metadata": {},
   "outputs": [
    {
     "name": "stdout",
     "output_type": "stream",
     "text": [
      "Help on function wrapper in module __main__:\n",
      "\n",
      "wrapper(*args, **kwiargs)\n",
      "\n"
     ]
    }
   ],
   "source": [
    "help(somefunc)"
   ]
  },
  {
   "cell_type": "markdown",
   "metadata": {},
   "source": [
    "##### Same decorator with @wraps. Here @wraps copies the information about the passed function and preserve it for documentation."
   ]
  },
  {
   "cell_type": "code",
   "execution_count": 110,
   "metadata": {},
   "outputs": [],
   "source": [
    "from functools import wraps\n",
    "\n",
    "def meta(func):\n",
    "    @wraps(func)\n",
    "    def wrapper(*args, **kwiargs):\n",
    "        print(func.__name__)\n",
    "        return func(*args, **kwiargs)\n",
    "    return wrapper\n",
    "\n",
    "@meta\n",
    "def somefunc(x ,y):\n",
    "    print(\"Parameters: \" + str(x) + ',' + str(y))"
   ]
  },
  {
   "cell_type": "markdown",
   "metadata": {},
   "source": [
    "##### So when we get info or help about the decorated function, we get info about the original function and not about the decorator. Note the difference between the info returned by Python before and after using the @wraps."
   ]
  },
  {
   "cell_type": "code",
   "execution_count": 111,
   "metadata": {},
   "outputs": [
    {
     "data": {
      "text/plain": [
       "<function __main__.somefunc(x, y)>"
      ]
     },
     "execution_count": 111,
     "metadata": {},
     "output_type": "execute_result"
    }
   ],
   "source": [
    "somefunc"
   ]
  },
  {
   "cell_type": "code",
   "execution_count": 112,
   "metadata": {},
   "outputs": [
    {
     "name": "stdout",
     "output_type": "stream",
     "text": [
      "Help on function somefunc in module __main__:\n",
      "\n",
      "somefunc(x, y)\n",
      "\n"
     ]
    }
   ],
   "source": [
    "help(somefunc)"
   ]
  },
  {
   "cell_type": "markdown",
   "metadata": {},
   "source": [
    "###### A debugging decorator"
   ]
  },
  {
   "cell_type": "code",
   "execution_count": 113,
   "metadata": {},
   "outputs": [],
   "source": [
    "def debug(func):\n",
    "    funcname = func.__qualname__\n",
    "    @wraps(func)\n",
    "    def wrapper(*args, **kwiargs):\n",
    "        print(funcname)\n",
    "        return func(*args, **kwiargs)\n",
    "    return wrapper\n",
    "\n",
    "def somefunc(x ,y):\n",
    "    print(\"Parameters: \" + str(x) + ',' + str(y))\n",
    "   \n",
    "## diffrent kind of usage\n",
    "somefunc = debug(somefunc)"
   ]
  },
  {
   "cell_type": "code",
   "execution_count": 114,
   "metadata": {},
   "outputs": [
    {
     "name": "stdout",
     "output_type": "stream",
     "text": [
      "somefunc\n",
      "Parameters: y,z\n"
     ]
    }
   ],
   "source": [
    "somefunc(\"y\",\"z\")"
   ]
  },
  {
   "cell_type": "code",
   "execution_count": 115,
   "metadata": {},
   "outputs": [
    {
     "data": {
      "text/plain": [
       "<function __main__.somefunc(x, y)>"
      ]
     },
     "execution_count": 115,
     "metadata": {},
     "output_type": "execute_result"
    }
   ],
   "source": [
    "somefunc"
   ]
  },
  {
   "cell_type": "code",
   "execution_count": 116,
   "metadata": {},
   "outputs": [
    {
     "name": "stdout",
     "output_type": "stream",
     "text": [
      "Help on function somefunc in module __main__:\n",
      "\n",
      "somefunc(x, y)\n",
      "\n"
     ]
    }
   ],
   "source": [
    "help(somefunc)"
   ]
  },
  {
   "cell_type": "markdown",
   "metadata": {},
   "source": [
    "##### Benefit of using the decorator is, in this case, we can have all the debugging logic in one place which make its logic change or disabling the debug much easier.\n",
    "\n",
    "##### To enable a kill switch for debug, let us modify the decorator debut()."
   ]
  },
  {
   "cell_type": "code",
   "execution_count": 117,
   "metadata": {},
   "outputs": [],
   "source": [
    "def debug(func):\n",
    "    if DEBUG not in os.environ:\n",
    "        return func(*args, **kwiargs)\n",
    "    funcname = func.__qualname__\n",
    "    @wraps(func)\n",
    "    def wrapper(*args, **kwiargs):\n",
    "        print(funcname)\n",
    "        return func(*args, **kwiargs)\n",
    "    return wrapper"
   ]
  },
  {
   "cell_type": "markdown",
   "metadata": {},
   "source": [
    "###### Decorator with args. We can create decorators with some arguments passed to it which can be used for more detailed debugging."
   ]
  },
  {
   "cell_type": "code",
   "execution_count": 118,
   "metadata": {},
   "outputs": [],
   "source": [
    "def debug(somearg=\"\"):\n",
    "    def decorator(func):\n",
    "        funcname = somearg + func.__qualname__\n",
    "        @wraps(func)\n",
    "        def wrapper(*args, **kwiargs):\n",
    "            print(funcname)\n",
    "            return func(*args, **kwiargs)\n",
    "        return wrapper\n",
    "    return decorator\n",
    "\n",
    "@debug(somearg=\"The function name is \")\n",
    "def somefunc(x ,y):\n",
    "    print(\"Parameters: \" + str(x) + ',' + str(y))"
   ]
  },
  {
   "cell_type": "code",
   "execution_count": 119,
   "metadata": {},
   "outputs": [
    {
     "data": {
      "text/plain": [
       "<function __main__.somefunc(x, y)>"
      ]
     },
     "execution_count": 119,
     "metadata": {},
     "output_type": "execute_result"
    }
   ],
   "source": [
    "somefunc"
   ]
  },
  {
   "cell_type": "code",
   "execution_count": 120,
   "metadata": {},
   "outputs": [
    {
     "name": "stdout",
     "output_type": "stream",
     "text": [
      "The function name is somefunc\n",
      "Parameters: x,y\n"
     ]
    }
   ],
   "source": [
    "somefunc(\"x\",\"y\")"
   ]
  },
  {
   "cell_type": "markdown",
   "metadata": {},
   "source": [
    "##### To make the argument optional."
   ]
  },
  {
   "cell_type": "code",
   "execution_count": 123,
   "metadata": {},
   "outputs": [],
   "source": [
    "from functools import wraps, partial\n",
    "\n",
    "def debug(func=None, *, somearg=\"\"):\n",
    "    if func is None:\n",
    "        return partial(debug, somearg=somearg)\n",
    "    funcname = somearg + func.__qualname__\n",
    "    @wraps(func)\n",
    "    def wrapper(*args, **kwiargs):\n",
    "        print(funcname)\n",
    "        return func(*args, **kwiargs)\n",
    "    return wrapper"
   ]
  },
  {
   "cell_type": "markdown",
   "metadata": {},
   "source": [
    "##### Call the function without passing the argument to decorator"
   ]
  },
  {
   "cell_type": "code",
   "execution_count": 124,
   "metadata": {},
   "outputs": [
    {
     "data": {
      "text/plain": [
       "<function __main__.somefunc(x, y)>"
      ]
     },
     "execution_count": 124,
     "metadata": {},
     "output_type": "execute_result"
    }
   ],
   "source": [
    "@debug\n",
    "def somefunc(x ,y):\n",
    "    print(\"Parameters: \" + str(x) + ',' + str(y))\n",
    "\n",
    "somefunc"
   ]
  },
  {
   "cell_type": "code",
   "execution_count": 101,
   "metadata": {},
   "outputs": [
    {
     "name": "stdout",
     "output_type": "stream",
     "text": [
      "somefunc\n",
      "Parameters: This is test, and works\n"
     ]
    }
   ],
   "source": [
    "somefunc(\"This is test\", \" and works\")"
   ]
  },
  {
   "cell_type": "markdown",
   "metadata": {},
   "source": [
    "##### And with the arguement."
   ]
  },
  {
   "cell_type": "code",
   "execution_count": 127,
   "metadata": {},
   "outputs": [],
   "source": [
    "@debug(somearg=\"The function name is \")\n",
    "def somefunc(x ,y):\n",
    "    print(\"Parameters: \" + str(x) + ',' + str(y))"
   ]
  },
  {
   "cell_type": "code",
   "execution_count": 128,
   "metadata": {},
   "outputs": [
    {
     "name": "stdout",
     "output_type": "stream",
     "text": [
      "The function name is somefunc\n",
      "Parameters: This is test, and works\n"
     ]
    }
   ],
   "source": [
    "somefunc(\"This is test\", \" and works\")"
   ]
  },
  {
   "cell_type": "markdown",
   "metadata": {},
   "source": [
    "##### To cover all the methods in a class with a decorator, one way of doing is:"
   ]
  },
  {
   "cell_type": "code",
   "execution_count": 129,
   "metadata": {},
   "outputs": [],
   "source": [
    "class sample:\n",
    "    @debug\n",
    "    def somefunc(self):\n",
    "        pass\n",
    "    @debug\n",
    "    def otherfunc(self):\n",
    "        pass\n",
    "    @debug\n",
    "    def onemore(self):\n",
    "        pass"
   ]
  },
  {
   "cell_type": "markdown",
   "metadata": {},
   "source": [
    "##### It would be better to cover all the methods in a class in one go. We can achieve it by manipulating the key, pair values in class metadata and add the @debug to every method. Here is one way of doing it:"
   ]
  },
  {
   "cell_type": "code",
   "execution_count": 134,
   "metadata": {},
   "outputs": [],
   "source": [
    "def debugmethods(cls):\n",
    "    for key, val in vars(cls).items():\n",
    "        if callable(val):\n",
    "            setattr(cls, key, debug(val))\n",
    "    return cls"
   ]
  },
  {
   "cell_type": "code",
   "execution_count": 139,
   "metadata": {},
   "outputs": [],
   "source": [
    "class sample:\n",
    "    def somefunc(self):\n",
    "        pass\n",
    "    def otherfunc(self):\n",
    "        pass\n",
    "    def onemore(self):\n",
    "        pass\n",
    "\n",
    "sample = debugmethods(sample) # class sample's metadata is modificed here."
   ]
  },
  {
   "cell_type": "code",
   "execution_count": 144,
   "metadata": {},
   "outputs": [
    {
     "data": {
      "text/plain": [
       "<__main__.sample at 0x7f9bc1e274d0>"
      ]
     },
     "execution_count": 144,
     "metadata": {},
     "output_type": "execute_result"
    }
   ],
   "source": [
    "s = sample()\n",
    "s"
   ]
  },
  {
   "cell_type": "code",
   "execution_count": 145,
   "metadata": {},
   "outputs": [
    {
     "name": "stdout",
     "output_type": "stream",
     "text": [
      "sample.somefunc\n"
     ]
    }
   ],
   "source": [
    "s.somefunc()"
   ]
  },
  {
   "cell_type": "code",
   "execution_count": 141,
   "metadata": {},
   "outputs": [
    {
     "name": "stdout",
     "output_type": "stream",
     "text": [
      "sample.otherfunc\n"
     ]
    }
   ],
   "source": [
    "s.otherfunc()"
   ]
  },
  {
   "cell_type": "code",
   "execution_count": 142,
   "metadata": {},
   "outputs": [
    {
     "name": "stdout",
     "output_type": "stream",
     "text": [
      "sample.onemore\n"
     ]
    }
   ],
   "source": [
    "s.onemore()"
   ]
  },
  {
   "cell_type": "markdown",
   "metadata": {},
   "source": [
    "##### Here are what we did above:  \n",
    "1. Walk through class dict.  \n",
    "2. Identify callables.  \n",
    "3. Wrap with a decorator.  "
   ]
  },
  {
   "cell_type": "markdown",
   "metadata": {},
   "source": [
    "##### How about debugging class attributes? Let us see how to do that here:"
   ]
  },
  {
   "cell_type": "code",
   "execution_count": 163,
   "metadata": {},
   "outputs": [],
   "source": [
    "def debugattr(cls):\n",
    "    originalgetattribute = cls.__getattribute__\n",
    "    def __getattribute__(self, name):\n",
    "        print(\"Attribute: \",name)\n",
    "        return originalgetattribute(self, name)\n",
    "    cls.__getattribute__ = __getattribute__\n",
    "    return cls\n",
    "\n",
    "@debugattr\n",
    "class sampleattr:\n",
    "    def __init__(self,x,y):\n",
    "        self.x = x\n",
    "        self.y = y"
   ]
  },
  {
   "cell_type": "code",
   "execution_count": 165,
   "metadata": {},
   "outputs": [],
   "source": [
    "attr = sampleattr(5,6)"
   ]
  },
  {
   "cell_type": "code",
   "execution_count": 166,
   "metadata": {},
   "outputs": [
    {
     "name": "stdout",
     "output_type": "stream",
     "text": [
      "Attribute:  x\n"
     ]
    },
    {
     "data": {
      "text/plain": [
       "5"
      ]
     },
     "execution_count": 166,
     "metadata": {},
     "output_type": "execute_result"
    }
   ],
   "source": [
    "attr.x"
   ]
  },
  {
   "cell_type": "code",
   "execution_count": 167,
   "metadata": {},
   "outputs": [
    {
     "name": "stdout",
     "output_type": "stream",
     "text": [
      "Attribute:  y\n"
     ]
    },
    {
     "data": {
      "text/plain": [
       "6"
      ]
     },
     "execution_count": 167,
     "metadata": {},
     "output_type": "execute_result"
    }
   ],
   "source": [
    "attr.y"
   ]
  },
  {
   "cell_type": "markdown",
   "metadata": {},
   "source": [
    "##### What if we want to add the debug wrapper to all the classes at once? The solution would be to create a metaclass with wrapper and inherit other classes from it. Before we get into the code, few points to consider:  \n",
    "1. Type is top of the heirarchy of classes in Python.  \n",
    "2. Types are their own class (built-in).  \n",
    "3. There are many types and are instances of type class.  \n",
    "4. Classes are instances of types.  "
   ]
  },
  {
   "cell_type": "markdown",
   "metadata": {},
   "source": [
    "##### Defining a New Metaclass:\n",
    "* Inherit from type class.\n",
    "* Redefine __new__ or __init__ methods in the inherited class.\n",
    "\n",
    "  class custype(type):  \n",
    "      def __new__(cls, name, bases, clsdict):  \n",
    "          clsobj = super().__new__(cls, name, bases, clsdict)  \n",
    "          return clsobj\n",
    "          \n",
    "* When we use this new type class:  \n",
    "\n",
    "      class myclass(metaclass=custype)  # this step creates a new class based on the metaclass or type \"custype\".\n",
    "      \n",
    "##### In the metaclass definition \"debugmeta\" below, we get the class to be created normally using built-in metaclass and then we immediately wrap it by class decorator. "
   ]
  },
  {
   "cell_type": "code",
   "execution_count": 186,
   "metadata": {},
   "outputs": [],
   "source": [
    "class debugmeta(type): # type is top in the hierarchy.\n",
    "    def __new__(cls, clsname, bases, clsdict):\n",
    "        clsobj = super().__new__(cls, clsname, bases, clsdict) # a normal class is created.\n",
    "        clsobj = debugmethods(clsobj) #  all the methods in the class are wrapped by debug wrapper.\n",
    "        return clsobj"
   ]
  },
  {
   "cell_type": "markdown",
   "metadata": {},
   "source": [
    "To use it, set it in the base class which will get inherited to all the classes."
   ]
  },
  {
   "cell_type": "code",
   "execution_count": 188,
   "metadata": {},
   "outputs": [
    {
     "data": {
      "text/plain": [
       "<__main__.myclass1 at 0x7f9bc44d0d10>"
      ]
     },
     "execution_count": 188,
     "metadata": {},
     "output_type": "execute_result"
    }
   ],
   "source": [
    "class Base(metaclass=debugmeta):\n",
    "    pass\n",
    "\n",
    "class myclass1(Base):\n",
    "    def somefunc(self):\n",
    "        pass\n",
    "    def otherfunc(self):\n",
    "        pass\n",
    "    def onemore(self):\n",
    "        pass\n",
    "    \n",
    "cls1 = myclass1()\n",
    "cls1"
   ]
  },
  {
   "cell_type": "code",
   "execution_count": 190,
   "metadata": {},
   "outputs": [
    {
     "name": "stdout",
     "output_type": "stream",
     "text": [
      "myclass1.somefunc\n"
     ]
    }
   ],
   "source": [
    "cls1.somefunc()"
   ]
  },
  {
   "cell_type": "code",
   "execution_count": 196,
   "metadata": {},
   "outputs": [
    {
     "data": {
      "text/plain": [
       "<__main__.myclass2 at 0x7f9bc4355110>"
      ]
     },
     "execution_count": 196,
     "metadata": {},
     "output_type": "execute_result"
    }
   ],
   "source": [
    "class myclass2(Base):\n",
    "    def cls2somefunc(self):\n",
    "        pass\n",
    "    def cls2otherfunc(self):\n",
    "        pass\n",
    "    def cls2more(self):\n",
    "        pass\n",
    "    \n",
    "cls2 = myclass2()\n",
    "cls2"
   ]
  },
  {
   "cell_type": "code",
   "execution_count": 197,
   "metadata": {},
   "outputs": [
    {
     "name": "stdout",
     "output_type": "stream",
     "text": [
      "myclass2.cls2somefunc\n"
     ]
    }
   ],
   "source": [
    "cls2.cls2somefunc()"
   ]
  },
  {
   "cell_type": "markdown",
   "metadata": {},
   "source": [
    "#### Decorators - Main Ideas:  \n",
    "* ##### It is mostly about wrapping / rewriting \n",
    "    * ##### Decorators: Functions\n",
    "    * ##### Class Decorators: Classes\n",
    "    * ##### Metaclassess: Class heirarchies"
   ]
  },
  {
   "cell_type": "markdown",
   "metadata": {},
   "source": [
    "Let us continue in Part 2 with more advanced techniques.\n",
    "\n",
    "Reference: David Beazley - Python 3 Metaprogramming https://www.youtube.com/watch?v=sPiWg5jSoZI"
   ]
  }
 ],
 "metadata": {
  "kernelspec": {
   "display_name": "Python 3",
   "language": "python",
   "name": "python3"
  },
  "language_info": {
   "codemirror_mode": {
    "name": "ipython",
    "version": 3
   },
   "file_extension": ".py",
   "mimetype": "text/x-python",
   "name": "python",
   "nbconvert_exporter": "python",
   "pygments_lexer": "ipython3",
   "version": "3.7.6"
  }
 },
 "nbformat": 4,
 "nbformat_minor": 4
}
